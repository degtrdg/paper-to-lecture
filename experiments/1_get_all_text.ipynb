{
 "cells": [
  {
   "cell_type": "code",
   "execution_count": 1,
   "metadata": {},
   "outputs": [
    {
     "name": "stdout",
     "output_type": "stream",
     "text": [
      "Total number of pages: 33\n",
      "First 500 characters of the extracted text:\n",
      "Article\n",
      "Machine Learning Identiﬁes Stemness Features\n",
      "Associated with Oncogenic Dedifferentiation\n",
      "Graphical Abstract\n",
      "Highlights\n",
      "dEpigenetic and expression-based stemness indices\n",
      "measure oncogenic dedifferentiation\n",
      "dImmune microenvironment content and PD-L1 levelsassociate with stemness indices\n",
      "dStemness index is increased in metastatic tumors andreveals intratumor heterogeneity\n",
      "dApplying stemness indices reveals potential drug targets foranti-cancer therapiesAuthors\n",
      "Tathiane M. Malta, Artem Sokol\n",
      "\n",
      "Total number of characters: 108884\n",
      "\n",
      "Extracted text has been written to extracted_text.txt\n"
     ]
    }
   ],
   "source": [
    "import PyPDF2\n",
    "import os\n",
    "\n",
    "# Define the path to the PDF file\n",
    "pdf_path = \"/Users/danielgeorge/Documents/work/class/stemcell6342/papers/Machine Learning Identifies Stemness Features Associated with Oncogenic Dedifferentiation.pdf\"\n",
    "\n",
    "# Define the output text file path\n",
    "output_path = \"extracted_text.txt\"\n",
    "\n",
    "# Check if the file exists\n",
    "if not os.path.exists(pdf_path):\n",
    "    print(f\"Error: The file {pdf_path} does not exist.\")\n",
    "else:\n",
    "    # Open the PDF file\n",
    "    with open(pdf_path, 'rb') as file:\n",
    "        # Create a PDF reader object\n",
    "        pdf_reader = PyPDF2.PdfReader(file)\n",
    "        \n",
    "        # Initialize an empty string to store all the text\n",
    "        all_text = \"\"\n",
    "        \n",
    "        # Iterate through all pages and extract text\n",
    "        for page in pdf_reader.pages:\n",
    "            all_text += page.extract_text()\n",
    "        \n",
    "        # Write the extracted text to a file\n",
    "        with open(output_path, 'w', encoding='utf-8') as output_file:\n",
    "            output_file.write(all_text)\n",
    "        \n",
    "        # Print the total number of pages\n",
    "        print(f\"Total number of pages: {len(pdf_reader.pages)}\")\n",
    "        \n",
    "        # Print the first 500 characters of the extracted text\n",
    "        print(\"First 500 characters of the extracted text:\")\n",
    "        print(all_text[:500])\n",
    "        \n",
    "        # Print the total number of characters\n",
    "        print(f\"\\nTotal number of characters: {len(all_text)}\")\n",
    "        \n",
    "        # Print confirmation of file writing\n",
    "        print(f\"\\nExtracted text has been written to {output_path}\")"
   ]
  }
 ],
 "metadata": {
  "kernelspec": {
   "display_name": ".venv",
   "language": "python",
   "name": "python3"
  },
  "language_info": {
   "codemirror_mode": {
    "name": "ipython",
    "version": 3
   },
   "file_extension": ".py",
   "mimetype": "text/x-python",
   "name": "python",
   "nbconvert_exporter": "python",
   "pygments_lexer": "ipython3",
   "version": "3.10.11"
  }
 },
 "nbformat": 4,
 "nbformat_minor": 2
}
